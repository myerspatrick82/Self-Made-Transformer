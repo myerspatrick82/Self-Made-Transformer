{
 "cells": [
  {
   "cell_type": "code",
   "execution_count": 93,
   "id": "68f52234",
   "metadata": {},
   "outputs": [],
   "source": [
    "import torch\n",
    "import torch.nn as nn\n",
    "import torch.nn.functional as F\n",
    "\n",
    "class SkipGramNegSampling(nn.Module):\n",
    "    def __init__(self, vocab_size, embed_dim):\n",
    "        super(SkipGramNegSampling, self).__init__()\n",
    "        self.in_embed = nn.Embedding(vocab_size, embed_dim)\n",
    "        self.out_embed = nn.Embedding(vocab_size, embed_dim)\n",
    "\n",
    "    def forward(self, center_words, pos_context_words, neg_context_words):\n",
    "        center_embeds = self.in_embed(center_words)\n",
    "        pos_embeds = self.out_embed(pos_context_words)\n",
    "        neg_embeds = self.out_embed(neg_context_words)\n",
    "\n",
    "        pos_score = torch.sum(center_embeds * pos_embeds, dim=1)\n",
    "        pos_loss = F.logsigmoid(pos_score)\n",
    "\n",
    "        neg_score = torch.bmm(neg_embeds.neg(), center_embeds.unsqueeze(2)).squeeze(2)\n",
    "        neg_loss = F.logsigmoid(neg_score).sum(1)\n",
    "\n",
    "        loss = -(pos_loss + neg_loss).mean()\n",
    "        return loss"
   ]
  },
  {
   "cell_type": "code",
   "execution_count": null,
   "id": "8d0354e7",
   "metadata": {},
   "outputs": [
    {
     "name": "stderr",
     "output_type": "stream",
     "text": [
      "C:\\Temp\\ipykernel_13332\\2594642887.py:2: FutureWarning: You are using `torch.load` with `weights_only=False` (the current default value), which uses the default pickle module implicitly. It is possible to construct malicious pickle data which will execute arbitrary code during unpickling (See https://github.com/pytorch/pytorch/blob/main/SECURITY.md#untrusted-models for more details). In a future release, the default value for `weights_only` will be flipped to `True`. This limits the functions that could be executed during unpickling. Arbitrary objects will no longer be allowed to be loaded via this mode unless they are explicitly allowlisted by the user via `torch.serialization.add_safe_globals`. We recommend you start setting `weights_only=True` for any use case where you don't have full control of the loaded file. Please open an issue on GitHub for any issues related to this experimental feature.\n",
      "  checkpoint = torch.load('checkpoint_epoch_nltk5.pt', map_location=torch.device('cuda'))\n"
     ]
    }
   ],
   "source": [
    "# load model\n",
    "checkpoint = torch.load('checkpoint_epoch_nltk5.pt', map_location=torch.device('cuda'))\n",
    "\n",
    "vocab_size = checkpoint['vocab_size']\n",
    "embedding_dim = checkpoint['embedding_dim']\n",
    "\n",
    "model = SkipGramNegSampling(vocab_size, embedding_dim)\n",
    "\n",
    "model.load_state_dict(checkpoint['model_state_dict'])\n",
    "\n",
    "model.eval()\n",
    "\n",
    "embeddings = model.in_embed.weight.data \n"
   ]
  },
  {
   "cell_type": "code",
   "execution_count": null,
   "id": "4ba257d3",
   "metadata": {},
   "outputs": [
    {
     "name": "stdout",
     "output_type": "stream",
     "text": [
      "Tokenizing chunks with NLTK...\n",
      "0 tokens processed\n",
      "1,000,000 tokens processed\n",
      "2,000,000 tokens processed\n",
      "3,000,000 tokens processed\n",
      "4,000,000 tokens processed\n",
      "5,000,000 tokens processed\n",
      "6,000,000 tokens processed\n",
      "7,000,000 tokens processed\n",
      "8,000,000 tokens processed\n",
      "9,000,000 tokens processed\n",
      "Tokenization complete!\n",
      "Unique words: 158483\n"
     ]
    }
   ],
   "source": [
    "# FOR NEWOUTPUT.TXT\n",
    "from nltk.tokenize import word_tokenize\n",
    "from collections import Counter\n",
    "import re\n",
    "\n",
    "max_bytes = 60 * 1024 * 1024\n",
    "\n",
    "with open('new_output.txt', 'rb') as f:\n",
    "    raw_bytes = f.read(max_bytes)\n",
    "\n",
    "text = raw_bytes.decode('utf-8', errors='ignore')\n",
    "\n",
    "chunk_size = 10_000_000 \n",
    "chunks = [text[i:i+chunk_size] for i in range(0, len(text), chunk_size)]\n",
    "\n",
    "def stream_nltk_tokens(text_chunks):\n",
    "    for chunk in text_chunks:\n",
    "        tokens = word_tokenize(chunk.lower(), preserve_line=True)\n",
    "        for token in tokens:\n",
    "            if token.isalpha():\n",
    "                yield token\n",
    "\n",
    "word_counts = Counter()\n",
    "print(\"Tokenizing chunks with NLTK...\")\n",
    "\n",
    "for i, token in enumerate(stream_nltk_tokens(chunks)):\n",
    "    word_counts[token] += 1\n",
    "    if i % 1_000_000 == 0:\n",
    "        print(f\"{i:,} tokens processed\")\n",
    "\n",
    "print(\"Tokenization complete!\")\n",
    "print(f\"Unique words: {len(word_counts)}\")\n",
    "\n",
    "min_freq = 5\n",
    "max_vocab_size = None\n",
    "\n",
    "def is_clean_word(word):\n",
    "    return re.fullmatch(r\"[a-z]+\", word) is not None\n",
    "\n",
    "cleaned_word_counts = {\n",
    "    word: freq for word, freq in word_counts.items()\n",
    "    if is_clean_word(word) and freq >= min_freq\n",
    "}\n",
    "\n"
   ]
  },
  {
   "cell_type": "code",
   "execution_count": 2,
   "id": "6de4994d",
   "metadata": {},
   "outputs": [
    {
     "name": "stdout",
     "output_type": "stream",
     "text": [
      "Final cleaned vocab size: 45700\n",
      "Sample vocab entries: [('are', 0), ('you', 1), ('a', 2), ('resident', 3), ('of', 4), ('pinnacle', 5), ('who', 6), ('owns', 7), ('small', 8), ('business', 9)]\n"
     ]
    }
   ],
   "source": [
    "# for nltk\n",
    "word_to_idx = {word: idx for idx, word in enumerate(cleaned_word_counts)}\n",
    "idx_to_word = {idx: word for word, idx in word_to_idx.items()}\n",
    "\n",
    "\n",
    "print(f\"Final cleaned vocab size: {len(word_to_idx)}\")\n",
    "print(\"Sample vocab entries:\", list(word_to_idx.items())[:10])"
   ]
  },
  {
   "cell_type": "code",
   "execution_count": 92,
   "id": "38f50fb4",
   "metadata": {},
   "outputs": [],
   "source": [
    "import pickle\n",
    "\n",
    "with open(\"word_to_idx.pkl\", \"wb\") as f:\n",
    "    pickle.dump(word_to_idx, f)\n",
    "\n",
    "with open(\"idx_to_word.pkl\", \"wb\") as f:\n",
    "    pickle.dump(idx_to_word, f)"
   ]
  },
  {
   "cell_type": "code",
   "execution_count": 87,
   "id": "83fd9c8a",
   "metadata": {},
   "outputs": [
    {
     "name": "stdout",
     "output_type": "stream",
     "text": [
      "Embedding for 'queen':\n",
      "tensor([-3.6221e-02,  4.6474e-01, -4.6045e-01,  3.2859e-01, -2.1072e-01,\n",
      "         4.8157e-01,  1.0814e-01, -1.7645e-01,  1.6817e-01, -1.4249e-01,\n",
      "        -2.9407e-01,  2.7971e-02, -1.4551e-01,  8.3918e-02, -3.1995e-02,\n",
      "        -2.2585e-01,  5.4824e-02, -2.6597e-03, -2.2789e-02,  2.5730e-02,\n",
      "        -2.2354e-04, -4.8014e-02, -1.6811e-01, -7.6494e-01,  4.9077e-01,\n",
      "         5.6708e-01, -1.8327e-01,  4.9210e-01,  1.0593e-01, -1.4993e-01,\n",
      "         3.2491e-02,  8.7955e-02, -3.7447e-01, -5.5665e-02, -1.6520e-03,\n",
      "        -1.5840e-02, -4.5704e-01,  3.9949e-02,  8.4860e-01,  4.7197e-01,\n",
      "        -4.4371e-01,  3.8932e-01, -1.4003e-01,  2.2057e-01,  5.0567e-01,\n",
      "         4.9414e-01, -4.5644e-01, -3.0869e-03, -1.1814e-01, -1.2176e-01,\n",
      "        -3.4573e-02,  1.0614e-01,  1.6918e-01, -2.1860e-01, -9.5903e-02,\n",
      "        -3.1429e-01, -5.8567e-01, -1.7675e-01, -3.0623e-02, -3.2032e-01,\n",
      "        -5.2579e-01, -4.3684e-01, -3.1100e-03,  3.8498e-01, -4.7010e-02,\n",
      "        -2.0920e-01,  1.6029e-01,  5.2227e-01,  2.3750e-01, -1.1844e-02,\n",
      "        -9.0900e-02, -2.7971e-01,  2.3861e-01, -5.8342e-01,  6.4199e-01,\n",
      "        -1.0106e-01, -5.1138e-01,  3.0280e-01,  2.6078e-01,  3.0251e-01,\n",
      "        -3.7137e-01,  3.0556e-02, -3.8413e-01, -9.3934e-03, -2.8625e-01,\n",
      "         2.1255e-01,  2.8515e-01, -1.8980e-01, -2.7101e-01,  2.3973e-01,\n",
      "         4.3251e-01,  2.1207e-01,  3.6198e-01, -1.1705e-02,  3.0341e-01,\n",
      "         6.4344e-02,  7.5884e-01,  9.1203e-02, -2.0135e-01, -2.5605e-01,\n",
      "         3.5270e-01, -8.1645e-02,  5.1258e-02, -3.3232e-01,  5.1104e-01,\n",
      "        -2.5354e-01,  3.0486e-01, -1.5782e-03, -2.8115e-01,  3.9802e-01,\n",
      "        -4.3678e-01,  2.5680e-01,  2.6830e-01, -6.2806e-02,  1.9701e-01,\n",
      "        -9.9594e-02,  3.0803e-01,  2.1636e-01, -3.3149e-02, -1.1193e-01,\n",
      "        -2.1841e-01,  2.8087e-01, -2.3896e-02, -2.8144e-01, -1.2193e-01,\n",
      "        -1.2213e-01, -3.3044e-01, -3.6178e-01, -1.1773e-01,  4.3489e-01,\n",
      "         2.9172e-01, -6.4042e-02, -7.2394e-01,  1.5197e-01,  4.2064e-01,\n",
      "         2.4580e-01, -3.4120e-01,  3.2793e-01,  1.2499e-01, -1.0744e-01,\n",
      "        -2.4991e-01, -3.3002e-01,  1.3133e-01, -3.5676e-01,  6.5089e-02,\n",
      "         5.1213e-01,  1.2403e-01, -3.2440e-01,  1.9041e-01,  3.7293e-01,\n",
      "        -1.0444e-01, -5.5823e-01,  6.2585e-01,  2.5533e-01, -2.6119e-01,\n",
      "        -1.8184e-01,  6.0401e-01, -2.8767e-01,  2.7017e-01,  9.7887e-02,\n",
      "        -2.1510e-01, -2.8461e-02,  3.5847e-01,  7.9420e-02, -2.8347e-01,\n",
      "         9.8765e-02, -3.1439e-01, -5.5976e-02, -1.9660e-02, -5.6642e-02,\n",
      "        -5.8581e-01, -1.7585e-01,  1.6893e-01, -1.3938e-01,  3.3053e-01,\n",
      "         3.2807e-01,  6.8466e-03, -1.1215e-02,  1.9128e-02, -8.7945e-03,\n",
      "        -2.8487e-01, -2.9365e-01, -6.3550e-02, -2.3362e-02, -1.0596e-01,\n",
      "        -4.3594e-01,  7.4513e-03,  1.3859e-01, -9.4631e-02,  2.2356e-01,\n",
      "         1.9244e-01, -2.5220e-01,  5.3162e-02, -8.2309e-02,  1.8960e-01,\n",
      "        -2.7772e-01, -8.0531e-01, -5.8769e-01,  5.7126e-01,  6.5685e-03,\n",
      "        -5.6146e-01,  6.6119e-01, -6.3333e-02, -3.9714e-03, -5.2379e-01,\n",
      "         2.0841e-02, -6.7605e-01,  5.2253e-01, -4.3029e-02,  2.5466e-01,\n",
      "        -4.1736e-01,  7.8824e-02,  2.4777e-01, -2.8659e-01,  5.1052e-01,\n",
      "        -3.6175e-01,  4.8766e-01, -1.8441e-01, -2.6555e-01, -8.3034e-02,\n",
      "        -5.8399e-01, -3.8824e-02, -9.0926e-02, -9.9361e-03,  8.5975e-02,\n",
      "        -1.2756e-01,  5.8378e-01, -4.7780e-01,  1.6409e-01,  4.0179e-01,\n",
      "        -8.1270e-02, -2.9867e-01,  1.1063e-01,  8.3163e-02, -3.1675e-01,\n",
      "         3.0194e-01, -7.3855e-01,  8.4590e-02,  9.9750e-01,  5.1194e-02,\n",
      "         1.1384e-01, -4.5263e-01,  5.8820e-01,  1.9689e-01, -7.4755e-01,\n",
      "         2.3000e-01,  3.7480e-01, -4.5098e-01,  2.6581e-01,  4.2832e-01,\n",
      "         9.9198e-02,  2.5615e-01,  2.7824e-01,  1.3481e-01, -6.4789e-01,\n",
      "         1.4090e-01])\n"
     ]
    }
   ],
   "source": [
    "word = 'queen'\n",
    "if word in word_to_idx:\n",
    "    word_idx = word_to_idx[word]\n",
    "    word_vector = embeddings[word_idx]\n",
    "    print(f\"Embedding for '{word}':\\n{word_vector}\")\n",
    "else:\n",
    "    print(f\"Word '{word}' not found in vocabulary.\")\n"
   ]
  },
  {
   "cell_type": "code",
   "execution_count": null,
   "id": "e265096d",
   "metadata": {},
   "outputs": [],
   "source": [
    "def find_nearest_words(target_word, embeddings, word_to_idx, idx_to_word, top_k=5):\n",
    "    if target_word not in word_to_idx:\n",
    "        print(f\"Word '{target_word}' not found in vocabulary.\")\n",
    "        return []\n",
    "    \n",
    "    # Get the embedding vector for the target word\n",
    "    target_idx = word_to_idx[target_word]\n",
    "    target_vec = embeddings[target_idx]\n",
    "    \n",
    "    # Normalize embeddings to unit vectors\n",
    "    normalized_embeddings = embeddings / embeddings.norm(dim=1, keepdim=True)\n",
    "    normalized_target = target_vec / target_vec.norm()\n",
    "\n",
    "    # Compute cosine similarities\n",
    "    similarities = torch.matmul(normalized_embeddings, normalized_target)\n",
    "\n",
    "    # Get top k most similar words (including the word itself)\n",
    "    top_k_similarities, top_k_indices = similarities.topk(top_k + 1)\n",
    "    nearest_words = []\n",
    "    for idx, sim in zip(top_k_indices[1:], top_k_similarities[1:]):  # skip first (itself)\n",
    "        word = idx_to_word[idx.item()]\n",
    "        nearest_words.append((word, sim.item()))\n",
    "\n",
    "    return nearest_words\n"
   ]
  },
  {
   "cell_type": "code",
   "execution_count": 89,
   "id": "6ecd7937",
   "metadata": {},
   "outputs": [
    {
     "name": "stdout",
     "output_type": "stream",
     "text": [
      "raider: 0.3253\n",
      "queen: 0.2903\n",
      "upped: 0.2778\n",
      "vernon: 0.2764\n",
      "dublin: 0.2689\n",
      "cole: 0.2687\n",
      "asha: 0.2573\n",
      "almighty: 0.2559\n",
      "alessandro: 0.2554\n",
      "reread: 0.2533\n",
      "bottomed: 0.2526\n",
      "cuero: 0.2517\n",
      "whispered: 0.2503\n",
      "mirage: 0.2477\n",
      "jin: 0.2472\n",
      "probati: 0.2452\n",
      "mediterranean: 0.2440\n",
      "philistines: 0.2432\n",
      "benson: 0.2429\n",
      "protested: 0.2419\n"
     ]
    }
   ],
   "source": [
    "nearest_words = find_nearest_words('king', embeddings, word_to_idx, idx_to_word, top_k=20)\n",
    "\n",
    "for word, similarity in nearest_words:\n",
    "    print(f\"{word}: {similarity:.4f}\")\n"
   ]
  },
  {
   "cell_type": "code",
   "execution_count": null,
   "id": "83a54845",
   "metadata": {},
   "outputs": [],
   "source": [
    "import torch\n",
    "import matplotlib.pyplot as plt\n",
    "from sklearn.decomposition import PCA\n",
    "\n",
    "def plot_word_embeddings(words, embeddings, word_to_idx):\n",
    "    valid_words = [word for word in words if word in word_to_idx]\n",
    "    \n",
    "    if not valid_words:\n",
    "        print(\"No valid words found in vocabulary.\")\n",
    "        return\n",
    "    \n",
    "    vectors = torch.stack([embeddings[word_to_idx[word]] for word in valid_words])\n",
    "\n",
    "    pca = PCA(n_components=2)\n",
    "    vectors_2d = pca.fit_transform(vectors.cpu().numpy())\n",
    "\n",
    "    plt.figure(figsize=(10, 8))\n",
    "    plt.scatter(vectors_2d[:, 0], vectors_2d[:, 1])\n",
    "\n",
    "    for i, word in enumerate(valid_words):\n",
    "        plt.annotate(word, (vectors_2d[i, 0], vectors_2d[i, 1]))\n",
    "\n",
    "    plt.title(\"Word Embeddings Projected to 2D (PCA)\")\n",
    "    plt.xlabel(\"PC 1\")\n",
    "    plt.ylabel(\"PC 2\")\n",
    "    plt.grid(True)\n",
    "    plt.show()\n"
   ]
  },
  {
   "cell_type": "code",
   "execution_count": null,
   "id": "18b0876e",
   "metadata": {},
   "outputs": [
    {
     "data": {
      "image/png": "[encoded data removed]",
      "text/plain": [
       "<Figure size 1000x800 with 1 Axes>"
      ]
     },
     "metadata": {},
     "output_type": "display_data"
    }
   ],
   "source": [
    "words = ['is', 'and', 'they', 'them', 'but', 'human', 'town', 'city', 'sex']\n",
    "\n",
    "plot_word_embeddings(words, embeddings, word_to_idx)\n"
   ]
  },
  {
   "cell_type": "code",
   "execution_count": 69,
   "id": "533822d5",
   "metadata": {},
   "outputs": [],
   "source": [
    "import numpy as np\n",
    "import torch\n",
    "\n",
    "def load_glove_embeddings(file_path):\n",
    "    embeddings = {}\n",
    "    with open(file_path, 'r', encoding='utf-8') as f:\n",
    "        for line in f:\n",
    "            values = line.strip().split()\n",
    "            word = values[0]\n",
    "            vector = np.array(values[1:], dtype='float32')\n",
    "            embeddings[word] = vector\n",
    "    return embeddings\n"
   ]
  },
  {
   "cell_type": "code",
   "execution_count": 70,
   "id": "ba62b503",
   "metadata": {},
   "outputs": [],
   "source": [
    "glove_embeddings = load_glove_embeddings('glove.6B.50d.txt')"
   ]
  },
  {
   "cell_type": "code",
   "execution_count": 81,
   "id": "142a931a",
   "metadata": {},
   "outputs": [],
   "source": [
    "from numpy.linalg import norm\n",
    "\n",
    "def normalize_embeddings(embeddings):\n",
    "    return {word: vec / norm(vec) for word, vec in embeddings.items()}\n",
    "\n",
    "normalized_glove = normalize_embeddings(glove_embeddings)\n",
    "\n",
    "def normalize_tensor_embeddings(embedding_matrix, idx_to_word):\n",
    "    norms = embedding_matrix.norm(dim=1, keepdim=True)\n",
    "    normalized_matrix = embedding_matrix / norms\n",
    "    return {idx_to_word[i]: normalized_matrix[i] for i in range(len(idx_to_word))}"
   ]
  },
  {
   "cell_type": "code",
   "execution_count": 91,
   "id": "41ddd0ca",
   "metadata": {},
   "outputs": [
    {
     "name": "stderr",
     "output_type": "stream",
     "text": [
      "C:\\Temp\\ipykernel_13332\\289474658.py:9: DeprecationWarning: __array__ implementation doesn't accept a copy keyword, so passing copy=False failed. __array__ must implement 'dtype' and 'copy' keyword arguments. To learn more, see the migration guide https://numpy.org/devdocs/numpy_2_0_migration_guide.html#adapting-to-changes-in-the-copy-keyword\n",
      "  other: np.dot(target, vec)\n"
     ]
    },
    {
     "name": "stdout",
     "output_type": "stream",
     "text": [
      "First k with overlap: 7\n",
      "Overlapping words: {'queen'}\n",
      "First k with overlap: 7\n",
      "Overlapping words: {'queen'}\n",
      "First k with overlap: 2\n",
      "Overlapping words: {'king'}\n",
      "First k with overlap: 4\n",
      "Overlapping words: {'cat'}\n",
      "First k with overlap: 1\n",
      "Overlapping words: {'dog'}\n",
      "First k with overlap: 4\n",
      "Overlapping words: {'woman'}\n",
      "First k with overlap: 4\n",
      "Overlapping words: {'she'}\n",
      "First k with overlap: 7\n",
      "Overlapping words: {'boy'}\n",
      "First k with overlap: 1\n",
      "Overlapping words: {'girl'}\n",
      "First k with overlap: 6\n",
      "Overlapping words: {'software'}\n",
      "First k with overlap: 43\n",
      "Overlapping words: {'northern'}\n"
     ]
    }
   ],
   "source": [
    "my_embeddings = normalize_tensor_embeddings(embeddings, idx_to_word)\n",
    "# my_embedding = embeddings[word_to_idx['dog']]\n",
    "def get_top_k(word, embeddings, k):\n",
    "    if word not in embeddings:\n",
    "        raise ValueError(f\"'{word}' not found in embeddings.\")\n",
    "    \n",
    "    target = embeddings[word]\n",
    "    similarities = {\n",
    "        other: np.dot(target, vec)\n",
    "        for other, vec in embeddings.items() if other != word\n",
    "    }\n",
    "    top_k = sorted(similarities.items(), key=lambda x: x[1], reverse=True)\n",
    "    return [w for w, _ in top_k[:k]]\n",
    "\n",
    "def find_min_k_with_overlap(word, glove, custom, max_k=100):\n",
    "    for k in range(1, max_k + 1):\n",
    "        glove_top = set(get_top_k(word, glove, k))\n",
    "        custom_top = set(get_top_k(word, custom, k))\n",
    "        if glove_top & custom_top:  # intersection not empty\n",
    "            return k, glove_top & custom_top\n",
    "    return None, set()\n",
    "\n",
    "k, overlap = find_min_k_with_overlap('king', glove_embeddings, my_embeddings)\n",
    "print(f\"First k with overlap: {k}\")\n",
    "print(f\"Overlapping words: {overlap}\")\n",
    "\n",
    "words = ['king', 'queen', 'dog', 'cat', 'man', 'woman', 'girl', 'boy', 'computer', 'kingdom']\n",
    "for word in words:\n",
    "    k, overlap = find_min_k_with_overlap(word, glove_embeddings, my_embeddings)\n",
    "    print(f\"First k with overlap: {k}\")\n",
    "    print(f\"Overlapping words: {overlap}\")"
   ]
  },
  {
   "cell_type": "code",
   "execution_count": 84,
   "id": "86f4bc02",
   "metadata": {},
   "outputs": [
    {
     "name": "stdout",
     "output_type": "stream",
     "text": [
      "prince: 0.8236\n",
      "queen: 0.7839\n",
      "ii: 0.7746\n",
      "emperor: 0.7736\n",
      "son: 0.7667\n",
      "uncle: 0.7627\n",
      "kingdom: 0.7542\n",
      "throne: 0.7540\n",
      "brother: 0.7492\n",
      "ruler: 0.7434\n"
     ]
    }
   ],
   "source": [
    "def get_closest_words(word, glove, top_k=10):\n",
    "    if word not in glove:\n",
    "        raise ValueError(f\"'{word}' not found in GloVe.\")\n",
    "    \n",
    "    vec = glove[word]\n",
    "    similarities = {\n",
    "        other: np.dot(vec, other_vec) / (norm(vec) * norm(other_vec))\n",
    "        for other, other_vec in glove.items() if other != word\n",
    "    }\n",
    "    sorted_similar = sorted(similarities.items(), key=lambda x: x[1], reverse=True)\n",
    "    return sorted_similar[:top_k]\n",
    "\n",
    "closest_words = get_closest_words(\"king\", glove_embeddings, top_k=10)\n",
    "for word, sim in closest_words:\n",
    "    print(f\"{word}: {sim:.4f}\")\n"
   ]
  }
 ],
 "metadata": {
  "kernelspec": {
   "display_name": ".venv",
   "language": "python",
   "name": "python3"
  },
  "language_info": {
   "codemirror_mode": {
    "name": "ipython",
    "version": 3
   },
   "file_extension": ".py",
   "mimetype": "text/x-python",
   "name": "python",
   "nbconvert_exporter": "python",
   "pygments_lexer": "ipython3",
   "version": "3.12.2"
  }
 },
 "nbformat": 4,
 "nbformat_minor": 5
}
