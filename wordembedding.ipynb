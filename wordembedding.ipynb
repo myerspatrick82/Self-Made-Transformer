{
 "cells": [
  {
   "cell_type": "code",
   "execution_count": 11,
   "id": "13eb066a",
   "metadata": {},
   "outputs": [],
   "source": [
    "from tokenizers import Tokenizer\n",
    "from tokenizers.models import BPE\n",
    "from tokenizers.pre_tokenizers import Whitespace\n",
    "from tokenizers.normalizers import NFD, Lowercase, StripAccents\n",
    "from tokenizers.trainers import BpeTrainer\n",
    "\n",
    "tokenizer = Tokenizer.from_pretrained(\"gpt2\")"
   ]
  },
  {
   "cell_type": "code",
   "execution_count": 4,
   "id": "a50d2f29",
   "metadata": {},
   "outputs": [
    {
     "name": "stderr",
     "output_type": "stream",
     "text": [
      "c:\\Github\\Self-Made-Transformer\\.venv\\Lib\\site-packages\\tqdm\\auto.py:21: TqdmWarning: IProgress not found. Please update jupyter and ipywidgets. See https://ipywidgets.readthedocs.io/en/stable/user_install.html\n",
      "  from .autonotebook import tqdm as notebook_tqdm\n"
     ]
    },
    {
     "name": "stdout",
     "output_type": "stream",
     "text": [
      "Tokenizing 16 chunks...\n",
      "Chunk 1/16 done. Total tokens so far: 2681563\n",
      "Chunk 6/16 done. Total tokens so far: 16495997\n",
      "Chunk 11/16 done. Total tokens so far: 29765540\n",
      "Chunk 16/16 done. Total tokens so far: 42662204\n",
      "Tokenization complete! Total tokens: 42662204\n"
     ]
    }
   ],
   "source": [
    "from tokenizers import Tokenizer\n",
    "\n",
    "# Load Huggingface GPT-2 fast BPE tokenizer\n",
    "tokenizer = Tokenizer.from_pretrained(\"gpt2\")\n",
    "\n",
    "# Read your full text\n",
    "with open('out.txt', 'r') as f:\n",
    "    text = f.read()\n",
    "\n",
    "# Define chunk size (characters)\n",
    "chunk_size = 10_000_000  # About ~10MB per chunk\n",
    "\n",
    "# Split text into smaller manageable pieces\n",
    "chunks = [text[i:i+chunk_size] for i in range(0, len(text), chunk_size)]\n",
    "\n",
    "# Tokenize each chunk\n",
    "tokens = []\n",
    "\n",
    "print(f\"Tokenizing {len(chunks)} chunks...\")\n",
    "\n",
    "for idx, chunk in enumerate(chunks):\n",
    "    output = tokenizer.encode(chunk)\n",
    "    tokens.extend(output.tokens)\n",
    "\n",
    "    # Progress update\n",
    "    if idx % 5 == 0:\n",
    "        print(f\"Chunk {idx+1}/{len(chunks)} done. Total tokens so far: {len(tokens)}\")\n",
    "\n",
    "print(f\"Tokenization complete! Total tokens: {len(tokens)}\")\n"
   ]
  },
  {
   "cell_type": "code",
   "execution_count": 5,
   "id": "7e4450cb",
   "metadata": {},
   "outputs": [
    {
     "name": "stdout",
     "output_type": "stream",
     "text": [
      "['**', 'The', 'ĠProject', 'ĠGutenberg', 'ĠE', 'text', 'Ġof', 'Ġ20', ',', '000', 'ĠLe', 'agues', 'ĠUnder', 'Ġthe', 'ĠSea', '**', 'Ċ', '*****', 'This', 'Ġfile', 'Ġshould', 'Ġbe', 'Ġnamed', 'Ġ200', '0010', '.', 'txt', 'Ġor', 'Ġ200', '0010', '.', 'zip', '****', '**', 'ĊĊ', 'Ċ', 'Please', 'Ġtake', 'Ġa', 'Ġlook', 'Ġat', 'Ġthe', 'Ġimportant', 'Ġinformation', 'Ġin', 'Ġthis', 'Ġheader', '.', 'Ċ', 'We', 'Ġencourage', 'Ġyou', 'Ġto', 'Ġkeep', 'Ġthis', 'Ġfile', 'Ġon', 'Ġyour', 'Ġown', 'Ġdisk', ',', 'Ġkeeping', 'Ġan', 'Ċ', 'elect', 'ronic', 'Ġpath', 'Ġopen', 'Ġfor', 'Ġthe', 'Ġnext', 'Ġreaders', '.', 'Ġ', 'ĠDo', 'Ġnot', 'Ġremove', 'Ġthis', '.', 'ĊĊ', 'Ċ', '**', 'Welcome', 'ĠTo', 'ĠThe', 'ĠWorld', 'Ġof', 'ĠFree', 'ĠPlain', 'ĠVanilla', 'ĠElectronic', 'ĠText', 's', '**', 'Ċ', 'Ċ', '**', 'E', 'text', 's']\n",
      "50257\n"
     ]
    }
   ],
   "source": [
    "print(tokens[:100])\n",
    "print(tokenizer.get_vocab_size())"
   ]
  },
  {
   "cell_type": "code",
   "execution_count": 6,
   "id": "b43bbb4f",
   "metadata": {},
   "outputs": [],
   "source": [
    "unique_tokens = set(tokens)\n",
    "\n",
    "word_to_idx = {word: idx for idx, word in enumerate(unique_tokens)}\n",
    "idx_to_word = {idx: word for word, idx in word_to_idx.items()}"
   ]
  },
  {
   "cell_type": "code",
   "execution_count": 7,
   "id": "1a18921e",
   "metadata": {},
   "outputs": [
    {
     "ename": "KeyboardInterrupt",
     "evalue": "",
     "output_type": "error",
     "traceback": [
      "\u001b[31m---------------------------------------------------------------------------\u001b[39m",
      "\u001b[31mKeyboardInterrupt\u001b[39m                         Traceback (most recent call last)",
      "\u001b[36mCell\u001b[39m\u001b[36m \u001b[39m\u001b[32mIn[7]\u001b[39m\u001b[32m, line 22\u001b[39m\n\u001b[32m     18\u001b[39m     pairs_tensor = torch.tensor(pairs, dtype=torch.long)\n\u001b[32m     20\u001b[39m     \u001b[38;5;28;01mreturn\u001b[39;00m pairs_tensor\n\u001b[32m---> \u001b[39m\u001b[32m22\u001b[39m pairs = \u001b[43mgenerate_skipgram_pairs\u001b[49m\u001b[43m(\u001b[49m\u001b[43mtokens\u001b[49m\u001b[43m,\u001b[49m\u001b[43m \u001b[49m\u001b[43mword_to_idx\u001b[49m\u001b[43m,\u001b[49m\u001b[43m \u001b[49m\u001b[43mwindow_size\u001b[49m\u001b[43m=\u001b[49m\u001b[32;43m2\u001b[39;49m\u001b[43m)\u001b[49m\n",
      "\u001b[36mCell\u001b[39m\u001b[36m \u001b[39m\u001b[32mIn[7]\u001b[39m\u001b[32m, line 16\u001b[39m, in \u001b[36mgenerate_skipgram_pairs\u001b[39m\u001b[34m(tokens, word_to_idx, window_size)\u001b[39m\n\u001b[32m     14\u001b[39m             \u001b[38;5;28;01mif\u001b[39;00m context_word \u001b[38;5;129;01mnot\u001b[39;00m \u001b[38;5;129;01min\u001b[39;00m word_to_idx:\n\u001b[32m     15\u001b[39m                 \u001b[38;5;28;01mcontinue\u001b[39;00m\n\u001b[32m---> \u001b[39m\u001b[32m16\u001b[39m             pairs.append((word_to_idx[center_word], word_to_idx[context_word]))\n\u001b[32m     18\u001b[39m pairs_tensor = torch.tensor(pairs, dtype=torch.long)\n\u001b[32m     20\u001b[39m \u001b[38;5;28;01mreturn\u001b[39;00m pairs_tensor\n",
      "\u001b[31mKeyboardInterrupt\u001b[39m: "
     ]
    }
   ],
   "source": [
    "import torch\n",
    "\n",
    "def generate_skipgram_pairs(tokens, word_to_idx, window_size=2):\n",
    "    pairs = []\n",
    "    for center_pos in range(len(tokens)):\n",
    "        center_word = tokens[center_pos]\n",
    "        if center_word not in word_to_idx:\n",
    "            continue\n",
    "        context_start = max(0, center_pos - window_size)\n",
    "        context_end = max(len(tokens), center_pos + window_size + 1)\n",
    "        for pos in range(context_start, context_end):\n",
    "            if pos != center_word:\n",
    "                context_word = tokens[pos]\n",
    "                if context_word not in word_to_idx:\n",
    "                    continue\n",
    "                pairs.append((word_to_idx[center_word], word_to_idx[context_word]))\n",
    "\n",
    "    pairs_tensor = torch.tensor(pairs, dtype=torch.long)\n",
    "    \n",
    "    return pairs_tensor\n",
    "\n",
    "pairs = generate_skipgram_pairs(tokens, word_to_idx, window_size=2)"
   ]
  }
 ],
 "metadata": {
  "kernelspec": {
   "display_name": ".venv",
   "language": "python",
   "name": "python3"
  },
  "language_info": {
   "codemirror_mode": {
    "name": "ipython",
    "version": 3
   },
   "file_extension": ".py",
   "mimetype": "text/x-python",
   "name": "python",
   "nbconvert_exporter": "python",
   "pygments_lexer": "ipython3",
   "version": "3.12.3"
  }
 },
 "nbformat": 4,
 "nbformat_minor": 5
}
