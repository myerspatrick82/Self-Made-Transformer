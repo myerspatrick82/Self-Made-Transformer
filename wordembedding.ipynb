{
 "cells": [
  {
   "cell_type": "code",
   "execution_count": 1,
   "id": "13eb066a",
   "metadata": {},
   "outputs": [
    {
     "name": "stderr",
     "output_type": "stream",
     "text": [
      "c:\\Github\\Self-Made-Transformer\\.venv\\Lib\\site-packages\\tqdm\\auto.py:21: TqdmWarning: IProgress not found. Please update jupyter and ipywidgets. See https://ipywidgets.readthedocs.io/en/stable/user_install.html\n",
      "  from .autonotebook import tqdm as notebook_tqdm\n"
     ]
    }
   ],
   "source": [
    "from tokenizers import Tokenizer\n",
    "from tokenizers.models import BPE\n",
    "from tokenizers.pre_tokenizers import Whitespace\n",
    "from tokenizers.normalizers import NFD, Lowercase, StripAccents\n",
    "from tokenizers.trainers import BpeTrainer\n",
    "\n",
    "tokenizer = Tokenizer.from_pretrained(\"gpt2\")"
   ]
  },
  {
   "cell_type": "code",
   "execution_count": 2,
   "id": "e96164c7",
   "metadata": {},
   "outputs": [],
   "source": [
    "vocab = tokenizer.vocab\n",
    "\n",
    "word_to_idx = {word: idx for idx, word in enumerate(vocab)}\n",
    "idx_to_word = {idx: word for word, idx in word_to_idx.items()}"
   ]
  },
  {
   "cell_type": "code",
   "execution_count": 3,
   "id": "3c3cab30",
   "metadata": {},
   "outputs": [
    {
     "name": "stdout",
     "output_type": "stream",
     "text": [
      "[('shirts', 0), ('ĠFox', 1), ('Ġfiasco', 2), ('.<', 3), ('Ġcigars', 4)]\n",
      "50257\n"
     ]
    }
   ],
   "source": [
    "print(list(word_to_idx.items())[:5])\n",
    "print(len(word_to_idx))\n"
   ]
  },
  {
   "cell_type": "code",
   "execution_count": 2,
   "id": "a50d2f29",
   "metadata": {},
   "outputs": [
    {
     "name": "stdout",
     "output_type": "stream",
     "text": [
      "Tokenizing 16 chunks...\n",
      "Chunk 1/16 done. Total tokens so far: 2681563\n",
      "Chunk 6/16 done. Total tokens so far: 16495997\n",
      "Chunk 11/16 done. Total tokens so far: 29765540\n",
      "Chunk 16/16 done. Total tokens so far: 42662204\n",
      "✅ Tokenization complete! Total tokens: 42662204\n"
     ]
    }
   ],
   "source": [
    "from tokenizers import Tokenizer\n",
    "\n",
    "# Load Huggingface GPT-2 fast BPE tokenizer\n",
    "tokenizer = Tokenizer.from_pretrained(\"gpt2\")\n",
    "\n",
    "# Read your full text\n",
    "with open('out.txt', 'r') as f:\n",
    "    text = f.read()\n",
    "\n",
    "# Define chunk size (characters)\n",
    "chunk_size = 10_000_000  # About ~10MB per chunk\n",
    "\n",
    "# Split text into smaller manageable pieces\n",
    "chunks = [text[i:i+chunk_size] for i in range(0, len(text), chunk_size)]\n",
    "\n",
    "# Tokenize each chunk\n",
    "tokens = []\n",
    "\n",
    "print(f\"Tokenizing {len(chunks)} chunks...\")\n",
    "\n",
    "for idx, chunk in enumerate(chunks):\n",
    "    output = tokenizer.encode(chunk)\n",
    "    tokens.extend(output.tokens)\n",
    "\n",
    "    # Progress update\n",
    "    if idx % 5 == 0:\n",
    "        print(f\"Chunk {idx+1}/{len(chunks)} done. Total tokens so far: {len(tokens)}\")\n",
    "\n",
    "print(f\"✅ Tokenization complete! Total tokens: {len(tokens)}\")\n"
   ]
  },
  {
   "cell_type": "code",
   "execution_count": null,
   "id": "7e4450cb",
   "metadata": {},
   "outputs": [],
   "source": [
    "print(tokens[:20])"
   ]
  }
 ],
 "metadata": {
  "kernelspec": {
   "display_name": ".venv",
   "language": "python",
   "name": "python3"
  },
  "language_info": {
   "codemirror_mode": {
    "name": "ipython",
    "version": 3
   },
   "file_extension": ".py",
   "mimetype": "text/x-python",
   "name": "python",
   "nbconvert_exporter": "python",
   "pygments_lexer": "ipython3",
   "version": "3.12.3"
  }
 },
 "nbformat": 4,
 "nbformat_minor": 5
}
